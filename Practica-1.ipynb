{
 "cells": [
  {
   "cell_type": "markdown",
   "metadata": {},
   "source": [
    "# Autor "
   ]
  },
  {
   "cell_type": "markdown",
   "metadata": {},
   "source": [
    "**Nombre: Pedro Porras Flores**\n",
    "\n",
    "**GitHub: PPorras**\n",
    "\n",
    "___"
   ]
  },
  {
   "cell_type": "markdown",
   "metadata": {},
   "source": [
    "## Ejercicio 1"
   ]
  },
  {
   "cell_type": "markdown",
   "metadata": {},
   "source": [
    "**Haga una función que le proporcione la serie de Fibonacci y que la regrese en una lista.**  "
   ]
  },
  {
   "cell_type": "code",
   "execution_count": 1,
   "metadata": {},
   "outputs": [],
   "source": [
    "def mi_Fibo(N): #Esta funcion proporciona la serie de los primeros N terminos de la serie de Fibonacci\n",
    "    a,b = 0,1 #a y b son la semilla de la serie\n",
    "    n_terminos = 2 #contabiliza el numero de terminos en la serie de Fibonacci\n",
    "    serie = [a,b] #agregar las semillas a la lista de salida\n",
    "    while n_terminos < N: #inicio del ciclo while que termina cuando se cumplen los N terminos\n",
    "        c=a+b #calcula el nuevo termino de la serie de Fibonacci\n",
    "        serie.append(c) #agrega el nuevo termino a la lista\n",
    "        a,b = b,c #asigna los nuevos terminos de la semilla para el siguiente termino\n",
    "        n_terminos += 1 #suma un 1 a n_terminos para controlar el ciclo while\n",
    "    return serie #regresa la variable serie como salida de la funcion"
   ]
  },
  {
   "cell_type": "code",
   "execution_count": 2,
   "metadata": {},
   "outputs": [
    {
     "name": "stdout",
     "output_type": "stream",
     "text": [
      "[0, 1, 1, 2, 3, 5, 8, 13, 21, 34, 55, 89] 12\n"
     ]
    }
   ],
   "source": [
    "serie = mi_Fibo(12) #llama a la serie de Fibonacci con el valor del argumento\n",
    "print(serie,len(serie)) #imprime la lista de la serie de Fibonacci y la longitud de la lista"
   ]
  },
  {
   "cell_type": "code",
   "execution_count": null,
   "metadata": {},
   "outputs": [],
   "source": []
  }
 ],
 "metadata": {
  "kernelspec": {
   "display_name": "Python 3",
   "language": "python",
   "name": "python3"
  },
  "language_info": {
   "codemirror_mode": {
    "name": "ipython",
    "version": 3
   },
   "file_extension": ".py",
   "mimetype": "text/x-python",
   "name": "python",
   "nbconvert_exporter": "python",
   "pygments_lexer": "ipython3",
   "version": "3.8.3"
  }
 },
 "nbformat": 4,
 "nbformat_minor": 4
}
